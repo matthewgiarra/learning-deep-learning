{
 "cells": [
  {
   "cell_type": "markdown",
   "id": "d7fd3ff5",
   "metadata": {},
   "source": [
    "# Perceptron Learning Algorithm\n",
    "Starts on page 9"
   ]
  },
  {
   "cell_type": "markdown",
   "id": "f4140182",
   "metadata": {},
   "source": [
    "### Perceptron function"
   ]
  },
  {
   "cell_type": "code",
   "execution_count": 6,
   "id": "6826cab4",
   "metadata": {},
   "outputs": [],
   "source": [
    "# First element in vector x must be 1\n",
    "# Length of w and x must be b+1 for neuron with n inputs\n",
    "def compute_output(w, x):\n",
    "    z = 0\n",
    "    for i in range(len(w)):\n",
    "        z += w[i]*x[i]\n",
    "    if z < 0:\n",
    "        return -1\n",
    "    else:\n",
    "        return 1\n",
    "    \n",
    "def show_learning(w):\n",
    "    strings = [\"w%d = %5.2f\" % (i, x) for i,x in enumerate(w)]\n",
    "    print(\" , \".join(strings))"
   ]
  },
  {
   "cell_type": "markdown",
   "id": "18e01c4b",
   "metadata": {},
   "source": [
    "### Hyperparameters"
   ]
  },
  {
   "cell_type": "code",
   "execution_count": 81,
   "id": "812ca872",
   "metadata": {},
   "outputs": [],
   "source": [
    "import random\n",
    "\n",
    "# Define hyperparameters\n",
    "# random.seed(0)\n",
    "LEARNING_RATE = 0.1\n",
    "index_list = [0, 1, 2, 3]\n",
    "\n",
    "# Training data\n",
    "x_train = [(1.0, -1.0, -1.0), (1.0, -1.0, 1.0), (1.0, 1.0, -1.0), (1.0, 1.0, 1.0)]\n",
    "y_train = [1.0, 1.0, 1.0, -1.0]"
   ]
  },
  {
   "cell_type": "markdown",
   "id": "f657b6ed",
   "metadata": {},
   "source": [
    "### Training loop"
   ]
  },
  {
   "cell_type": "code",
   "execution_count": 80,
   "id": "84535404",
   "metadata": {},
   "outputs": [
    {
     "name": "stdout",
     "output_type": "stream",
     "text": [
      "w0 =  0.20 , w1 = -0.60 , w2 =  0.25\n",
      "w0 =  0.30 , w1 = -0.50 , w2 =  0.15\n",
      "w0 =  0.40 , w1 = -0.40 , w2 =  0.05\n",
      "w0 =  0.30 , w1 = -0.50 , w2 = -0.05\n",
      "w0 =  0.40 , w1 = -0.40 , w2 = -0.15\n",
      "Finished in 4 loops\n",
      "x = (1.0, -1.0, -1.0), y_true = 1.0, y_pred = 1\n",
      "x = (1.0, -1.0, 1.0), y_true = 1.0, y_pred = 1\n",
      "x = (1.0, 1.0, -1.0), y_true = 1.0, y_pred = 1\n",
      "x = (1.0, 1.0, 1.0), y_true = -1.0, y_pred = -1\n"
     ]
    }
   ],
   "source": [
    "# Print initial weights\n",
    "w = [0.2, -0.6, 0.25]\n",
    "show_learning(w)\n",
    "\n",
    "# Loop until all the predictions are correct\n",
    "loops = 0\n",
    "all_correct = False\n",
    "while not all_correct:\n",
    "    # Set this to true, then if any result is wrong, set it to false.\n",
    "    all_correct = True\n",
    "    random.shuffle(index_list)\n",
    "    for i in index_list:\n",
    "        x = x_train[i]\n",
    "        y = y_train[i]\n",
    "        y_pred = compute_output(w, x)\n",
    "        \n",
    "        # If the answer is wrong, update the weights\n",
    "        if y_pred != y:\n",
    "            for j in range(0, len(w)):\n",
    "                w[j] += (y * LEARNING_RATE * x[j]) \n",
    "            all_correct = False\n",
    "            show_learning(w)\n",
    "    loops += 1\n",
    "            \n",
    "# Print the results\n",
    "print(\"Finished in %d loops\" % loops)\n",
    "for x, y in zip(x_train, y_train):\n",
    "    y_pred = compute_output(w, x)\n",
    "    print(\"x = \" + str(x) + \", y_true = \" + str(y) + \", y_pred = \" + str(y_pred))"
   ]
  }
 ],
 "metadata": {
  "kernelspec": {
   "display_name": "Python 3",
   "language": "python",
   "name": "python3"
  },
  "language_info": {
   "codemirror_mode": {
    "name": "ipython",
    "version": 3
   },
   "file_extension": ".py",
   "mimetype": "text/x-python",
   "name": "python",
   "nbconvert_exporter": "python",
   "pygments_lexer": "ipython3",
   "version": "3.8.13"
  }
 },
 "nbformat": 4,
 "nbformat_minor": 5
}
