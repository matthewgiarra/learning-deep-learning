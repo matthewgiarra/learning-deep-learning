{
 "cells": [
  {
   "cell_type": "markdown",
   "id": "9cab9781",
   "metadata": {},
   "source": [
    "### This notebook implements the example on ch. 2, p.54, *Using a Perceptron to Identify Patterns*"
   ]
  },
  {
   "cell_type": "code",
   "execution_count": 1,
   "id": "39098ad5",
   "metadata": {},
   "outputs": [],
   "source": [
    "import numpy as np\n",
    "import random\n",
    "import matplotlib.pyplot as plt\n",
    "\n",
    "# Perceptron\n",
    "def compute_output(w, x):\n",
    "    \"\"\"Computes the output of a perceptron\"\"\"\n",
    "    z = np.dot(w, x)\n",
    "    if z < 0:\n",
    "        return(-1, z)\n",
    "    else:\n",
    "        return(1, z)\n",
    "    \n",
    "def show_learning(w):\n",
    "    \"\"\"Print all the weights\"\"\"\n",
    "    strings = [\"w%d = %5.2f\" % (i, x) for i,x in enumerate(w)]\n",
    "    print(\" , \".join(strings))\n",
    "    \n",
    "def make_patterns(pattern_size = (3,3)):\n",
    "    \"\"\"Make all the binary patterns for a grid of pixels. Pixel values are -1 and +1.\n",
    "    Indicies are [pattern number, row, col]\"\"\"\n",
    "    \n",
    "    # Rows and columns\n",
    "    rows = pattern_size[0]\n",
    "    cols = pattern_size[1]\n",
    "\n",
    "    # Construct the datasets\n",
    "    pattern_size = (rows, cols)\n",
    "\n",
    "    # Number of elements\n",
    "    N = rows * cols\n",
    "\n",
    "    # Format for binary representation with N bits\n",
    "    binformat= '{:0%db}' % N\n",
    "\n",
    "    # Number of unique patterns\n",
    "    num_patterns = 2 ** N\n",
    "\n",
    "    # Make an array of patterns\n",
    "    patterns = np.zeros((num_patterns, rows, cols))\n",
    "    for i in range(num_patterns):\n",
    "        pattern = np.sign(np.array([int(x) for x in binformat.format(i)]) - 0.5).astype(np.float64)\n",
    "        patterns[i,:,:] = np.reshape(pattern, pattern_size)\n",
    "    \n",
    "    # Return the patterns\n",
    "    return(patterns)\n",
    "\n",
    "def patterns2vec(patterns):\n",
    "    num_patterns = patterns.shape[0]\n",
    "    num_el = np.prod(patterns[0,:,:].shape)\n",
    "    vectors = [np.concatenate([np.array([1]), patterns[i, :, :].flatten()]) for i in range(num_patterns)]\n",
    "    return(vectors)"
   ]
  },
  {
   "cell_type": "markdown",
   "id": "1957c48d",
   "metadata": {},
   "source": [
    "### Make the patterns and format into training sets"
   ]
  },
  {
   "cell_type": "code",
   "execution_count": 204,
   "id": "279e8ec7",
   "metadata": {},
   "outputs": [
    {
     "name": "stdout",
     "output_type": "stream",
     "text": [
      "Target pattern: #8742\n"
     ]
    },
    {
     "data": {
      "image/png": "[encoded data removed]",
      "text/plain": [
       "<Figure size 288x288 with 1 Axes>"
      ]
     },
     "metadata": {
      "needs_background": "light"
     },
     "output_type": "display_data"
    }
   ],
   "source": [
    "\n",
    "\n",
    "# Pattern size\n",
    "pattern_size = (4,4)\n",
    "\n",
    "# Make the patterns\n",
    "patterns = make_patterns(pattern_size)\n",
    "\n",
    "# Number of patterns\n",
    "num_patterns = patterns.shape[0]\n",
    "\n",
    "# Training vector from patterns\n",
    "x_train = patterns2vec(patterns)\n",
    "\n",
    "# Vector of target values\n",
    "target_idx = 8742\n",
    "y_train = np.zeros(num_patterns, dtype=np.float64) - 1 # Target value is -1 for all but the target pattern\n",
    "y_train[target_idx] = 1.0 # Target value is +1 for the target pattern\n",
    "\n",
    "print(\"Target pattern: #%d\" % target_idx)\n",
    "plt.matshow(patterns[target_idx, :, :])\n",
    "plt.clim([-1, 1])\n",
    "plt.axis(\"off\")\n",
    "plt.show()"
   ]
  },
  {
   "cell_type": "markdown",
   "id": "da4164ef",
   "metadata": {},
   "source": [
    "### Train the weights"
   ]
  },
  {
   "cell_type": "code",
   "execution_count": 224,
   "id": "6cdf5bda",
   "metadata": {
    "scrolled": false
   },
   "outputs": [
    {
     "name": "stdout",
     "output_type": "stream",
     "text": [
      "Initial Weights: \n",
      "[-0.155685    0.07919496 -0.27640149 -0.34410992  0.34885554 -0.26711937\n",
      "  0.00689604  0.44576963  0.40052546  0.46658259 -0.17969234 -0.10340935\n",
      " -0.46192243 -0.2001415  -0.38983431  0.38111126  0.12420257]\n",
      "\n",
      "Ran 44 epochs\n",
      "65536 correct, 0 incorrect (100.00% correct)\n",
      "Max score idx: 8742\n",
      "Max score: 0.09286229035705396\n",
      "\n",
      "Final weights:\n",
      "[-3.255685   -0.22080504 -0.37640149  0.35589008 -0.15114446 -0.16711937\n",
      " -0.09310396  0.14576963 -0.09947454 -0.23341741 -0.27969234  0.19659065\n",
      " -0.16192243 -0.1001415   0.31016569  0.08111126 -0.37579743]\n"
     ]
    }
   ],
   "source": [
    "# Learning rate\n",
    "LEARNING_RATE = 0.1\n",
    "\n",
    "# Initialize weights according to uniform distribution centered about 0\n",
    "weights = 1 * (np.random.random(size=np.prod(pattern_size)+1) - 0.5)\n",
    "print(\"Initial Weights: \")\n",
    "print(str(weights))\n",
    "\n",
    "# Training loop\n",
    "all_correct = False\n",
    "idx = [x for x in range(num_patterns)]\n",
    "max_epochs = 1000\n",
    "\n",
    "epoch = 0\n",
    "while all_correct is False:\n",
    "    all_correct = True\n",
    "    random.shuffle(idx)\n",
    "    correct = 0\n",
    "    incorrect = 0\n",
    "    predictions = np.zeros((num_patterns))\n",
    "    scores = np.zeros((num_patterns))\n",
    "    \n",
    "    # Inference on all the examples\n",
    "    for i in idx:\n",
    "        x = x_train[i]\n",
    "        y = y_train[i]\n",
    "        y_pred, score = compute_output(weights, x)\n",
    "        predictions[i] = y_pred\n",
    "        scores[i] = score\n",
    "        \n",
    "        # If the example is wrong, update weights\n",
    "        if y_pred != y:\n",
    "            weights += (y * LEARNING_RATE * x)\n",
    "            all_correct = False\n",
    "            incorrect += 1\n",
    "        else:\n",
    "            correct += 1\n",
    "    \n",
    "    # All the predictions\n",
    "    idxMax = np.argmax(scores)\n",
    "    max_score = scores[idxMax]\n",
    "    \n",
    "    epoch += 1\n",
    "    if epoch > max_epochs:\n",
    "        print(\"Max epochs exceeded; exiting (ran %d epochs)\" % epoch)\n",
    "        break\n",
    "    \n",
    "pct_correct = 100 * correct / num_patterns\n",
    "print()\n",
    "print(\"Ran %d epochs\" % epoch)\n",
    "print(\"%d correct, %d incorrect (%0.2f%% correct)\" % (correct, incorrect, pct_correct))\n",
    "print(\"Max score idx: \" + str(idxMax))\n",
    "print(\"Max score: \" + str(max_score))\n",
    "print()\n",
    "print(\"Final weights:\")\n",
    "print(weights)"
   ]
  },
  {
   "cell_type": "markdown",
   "id": "e528a5e5",
   "metadata": {},
   "source": [
    "### Display the results"
   ]
  },
  {
   "cell_type": "code",
   "execution_count": 225,
   "id": "20dd2e58",
   "metadata": {},
   "outputs": [
    {
     "data": {
      "image/png": "[encoded data removed]",
      "text/plain": [
       "<Figure size 432x288 with 2 Axes>"
      ]
     },
     "metadata": {
      "needs_background": "light"
     },
     "output_type": "display_data"
    }
   ],
   "source": [
    "fig, [ax1, ax2] = plt.subplots(1,2)\n",
    "clim = 0.2 * np.array([-1, 1])\n",
    "\n",
    "# Plot the target pattern\n",
    "ax1.matshow(patterns[target_idx, :, :], vmin=clim[0], vmax=clim[1])\n",
    "ax1.axis(\"off\")\n",
    "ax1.set_title(\"Target pattern\")\n",
    "\n",
    "# Plot the weights \n",
    "weights_mat = np.reshape(weights[1:], pattern_size)\n",
    "ax2.matshow(weights_mat, vmin=clim[0], vmax=clim[1])\n",
    "ax2.axis(\"off\")\n",
    "ax2.set_title(\"Weights\")\n",
    "plt.show()"
   ]
  }
 ],
 "metadata": {
  "kernelspec": {
   "display_name": "Python 3",
   "language": "python",
   "name": "python3"
  },
  "language_info": {
   "codemirror_mode": {
    "name": "ipython",
    "version": 3
   },
   "file_extension": ".py",
   "mimetype": "text/x-python",
   "name": "python",
   "nbconvert_exporter": "python",
   "pygments_lexer": "ipython3",
   "version": "3.8.13"
  }
 },
 "nbformat": 4,
 "nbformat_minor": 5
}
