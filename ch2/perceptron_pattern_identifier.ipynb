{
 "cells": [
  {
   "cell_type": "markdown",
   "id": "9cab9781",
   "metadata": {},
   "source": [
    "### This notebook implements the example on ch. 2, p.54, *Using a Perceptron to Identify Patterns*"
   ]
  },
  {
   "cell_type": "code",
   "execution_count": 74,
   "id": "39098ad5",
   "metadata": {},
   "outputs": [],
   "source": [
    "import numpy as np\n",
    "import random\n",
    "import matplotlib.pyplot as plt\n",
    "\n",
    "# Random seed\n",
    "# random.seed(seed)\n",
    "# np.random.seed(seed)\n",
    "\n",
    "# Perceptron\n",
    "def compute_output(w, x):\n",
    "    \"\"\"Computes the output of a perceptron\"\"\"\n",
    "    z = np.dot(w, x)\n",
    "    if z < 0:\n",
    "        return(-1, z)\n",
    "    else:\n",
    "        return(1, z)\n",
    "    \n",
    "def show_learning(w):\n",
    "    \"\"\"Print all the weights\"\"\"\n",
    "    strings = [\"w%d = %5.2f\" % (i, x) for i,x in enumerate(w)]\n",
    "    print(\" , \".join(strings))\n",
    "    \n",
    "def make_patterns(pattern_size = (3,3)):\n",
    "    \"\"\"Make all the binary patterns for a grid of pixels. Pixel values are -1 and +1.\n",
    "    Indicies are [pattern number, row, col]\"\"\"\n",
    "    \n",
    "    # Rows and columns\n",
    "    rows = pattern_size[0]\n",
    "    cols = pattern_size[1]\n",
    "\n",
    "    # Construct the datasets\n",
    "    pattern_size = (rows, cols)\n",
    "\n",
    "    # Number of elements\n",
    "    N = rows * cols\n",
    "\n",
    "    # Format for binary representation with N bits\n",
    "    binformat= '{:0%db}' % N\n",
    "\n",
    "    # Number of unique patterns\n",
    "    num_patterns = 2 ** N\n",
    "\n",
    "    # Make an array of patterns\n",
    "    patterns = np.zeros((num_patterns, rows, cols))\n",
    "    for i in range(num_patterns):\n",
    "        pattern = np.sign(np.array([int(x) for x in binformat.format(i)]) - 0.5)\n",
    "        patterns[i,:,:] = np.reshape(pattern, pattern_size)\n",
    "    \n",
    "    # Return the patterns\n",
    "    return(patterns)\n",
    "\n",
    "def patterns2vec(patterns):\n",
    "    num_patterns = patterns.shape[0]\n",
    "    num_el = np.prod(patterns[0,:,:].shape)\n",
    "    vectors = [np.concatenate([np.array([1]), patterns[i, :, :].flatten()]) for i in range(num_patterns)]\n",
    "    return(vectors)"
   ]
  },
  {
   "cell_type": "code",
   "execution_count": 92,
   "id": "279e8ec7",
   "metadata": {},
   "outputs": [
    {
     "data": {
      "image/png": "[encoded data removed]",
      "text/plain": [
       "<Figure size 288x288 with 1 Axes>"
      ]
     },
     "metadata": {
      "needs_background": "light"
     },
     "output_type": "display_data"
    }
   ],
   "source": [
    "# Hyperparameters\n",
    "seed = 0\n",
    "LEARNING_RATE = 0.1\n",
    "\n",
    "# Pattern size\n",
    "pattern_size = (3,3)\n",
    "\n",
    "# Make the patterns\n",
    "patterns = make_patterns(pattern_size)\n",
    "\n",
    "# Number of patterns\n",
    "num_patterns = patterns.shape[0]\n",
    "\n",
    "# Training vector from patterns\n",
    "x_train = patterns2vec(patterns)\n",
    "\n",
    "# Vector of target values\n",
    "# target_idx = np.random.randint(low=0, high=num_patterns-1)\n",
    "target_idx = 146\n",
    "y_train = np.zeros(num_patterns, dtype=float) - 1 # Target value is -1 for all but the target pattern\n",
    "y_train[target_idx] = 1.0 # Target value is +1 for the target pattern\n",
    "\n",
    "plt.matshow(patterns[target_idx, :, :])\n",
    "# plt.xticks([])\n",
    "# plt.yticks([])\n",
    "plt.clim([-1, 1])\n",
    "plt.show()"
   ]
  },
  {
   "cell_type": "code",
   "execution_count": 93,
   "id": "6cdf5bda",
   "metadata": {
    "scrolled": true
   },
   "outputs": [
    {
     "name": "stdout",
     "output_type": "stream",
     "text": [
      "Initial Weights: \n",
      "[ 1.27921371 -0.13639874  0.77964751  0.73475173  2.0430136  -0.36758383\n",
      "  1.36624604  0.39249679 -0.08530574 -0.26556793]\n"
     ]
    }
   ],
   "source": [
    "# Initialize weights according to normal distribution with mean of 0\n",
    "weights = np.random.standard_normal(size=np.prod(pattern_size)+1)\n",
    "print(\"Initial Weights: \")\n",
    "print(str(weights))\n",
    "\n",
    "# Training loop\n",
    "all_correct = False\n",
    "idx = [x for x in range(num_patterns)]\n",
    "epoch = 0\n",
    "epochs = 10\n",
    "\n",
    "for epoch in range(epochs):\n",
    "    random.shuffle(idx)\n",
    "    correct = 0\n",
    "    incorrect = 0\n",
    "    predictions = np.zeros((num_patterns))\n",
    "    scores = np.zeros((num_patterns))\n",
    "    \n",
    "    # Inference on all the examples\n",
    "    for i in idx:\n",
    "        x = x_train[i]\n",
    "        y = y_train[i]\n",
    "        y_pred, score = compute_output(weights, x)\n",
    "        predictions[i] = y_pred\n",
    "        scores[i] = score\n",
    "        \n",
    "        # If the example is wrong, update weights\n",
    "        if y_pred != y:\n",
    "            weights = weights - LEARNING_RATE * x\n",
    "            incorrect += 1\n",
    "        else:\n",
    "            correct += 1\n",
    "    \n",
    "    # All the predictions\n",
    "    idxMax = np.argmax(scores)\n",
    "    max_score = scores[idxMax]\n",
    "    \n",
    "    pct_correct = 100 * correct / num_patterns\n",
    "#     print(\"Epoch %d: %d correct, %d incorrect (%0.2f%% correct)\" % (epoch, correct, incorrect, pct_correct))\n",
    "#     print(\"Max score idx: \" + str(idxMax))\n",
    "#     print(\"Max score: \" + str(max_score))\n",
    "#     print()\n",
    "        \n",
    "        "
   ]
  },
  {
   "cell_type": "code",
   "execution_count": 91,
   "id": "b18cfd76",
   "metadata": {},
   "outputs": [
    {
     "data": {
      "text/plain": [
       "array([ 0.57889373, -0.4435996 , -0.25432169,  0.8876939 , -0.40094174,\n",
       "        0.49269864,  0.46335731, -0.5297571 ,  0.64467936])"
      ]
     },
     "execution_count": 91,
     "metadata": {},
     "output_type": "execute_result"
    }
   ],
   "source": [
    "weights[1:]"
   ]
  },
  {
   "cell_type": "code",
   "execution_count": null,
   "id": "e66371a3",
   "metadata": {},
   "outputs": [],
   "source": []
  }
 ],
 "metadata": {
  "kernelspec": {
   "display_name": "Python 3",
   "language": "python",
   "name": "python3"
  },
  "language_info": {
   "codemirror_mode": {
    "name": "ipython",
    "version": 3
   },
   "file_extension": ".py",
   "mimetype": "text/x-python",
   "name": "python",
   "nbconvert_exporter": "python",
   "pygments_lexer": "ipython3",
   "version": "3.8.13"
  }
 },
 "nbformat": 4,
 "nbformat_minor": 5
}
